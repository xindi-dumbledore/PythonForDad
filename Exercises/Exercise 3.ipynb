{
 "cells": [
  {
   "cell_type": "markdown",
   "metadata": {},
   "source": [
    "# Python练习（三）：挑战"
   ]
  },
  {
   "cell_type": "markdown",
   "metadata": {},
   "source": [
    "#### 知识点：\n",
    "* 数据结构：`list`,`dict`,`set`,`tuple`\n",
    "* 循环：`while`,`for`,`range`\n",
    "* 判断：`if`,`else`,`elif`\n",
    "* `break`,`continue`"
   ]
  },
  {
   "cell_type": "markdown",
   "metadata": {},
   "source": [
    "## 1. 返回n以内（不包括n）的质数"
   ]
  },
  {
   "cell_type": "code",
   "execution_count": 24,
   "metadata": {},
   "outputs": [],
   "source": [
    "def prime_numbers(n):\n",
    "    \"\"\"WRITE YOUR CODE HERE\"\"\""
   ]
  },
  {
   "cell_type": "code",
   "execution_count": 26,
   "metadata": {},
   "outputs": [],
   "source": [
    "assert(prime_numbers(10) == [2,3,5,7])"
   ]
  },
  {
   "cell_type": "markdown",
   "metadata": {},
   "source": [
    "## 2. 给定起始年份y1和终止年份y2，返回y1和y2之间的所有闰年（包括y1和y2）"
   ]
  },
  {
   "cell_type": "code",
   "execution_count": 32,
   "metadata": {},
   "outputs": [],
   "source": [
    "def leap_year(y1, y2):\n",
    "    \"\"\"WRITE YOUR CODE HERE\"\"\""
   ]
  },
  {
   "cell_type": "code",
   "execution_count": 36,
   "metadata": {},
   "outputs": [],
   "source": [
    "assert(leap_year(1990, 2020) == [1992, 1996, 2000, 2004, 2008, 2012, 2016, 2020])"
   ]
  },
  {
   "cell_type": "markdown",
   "metadata": {},
   "source": [
    "## 3. 给定两个从小到大排序的列表，合并成一个大的列表，保证合并列表中的数从小到大排序\n",
    "例:\n",
    "\n",
    "l1 = [3,4,5], l2 = [1,2,7,8]\n",
    "\n",
    "merge = [1,2,3,4,5,7,8]"
   ]
  },
  {
   "cell_type": "code",
   "execution_count": 52,
   "metadata": {},
   "outputs": [],
   "source": [
    "def merge_list(l1, l2):\n",
    "    \"\"\"WRITE YOUR CODE HERE\"\"\""
   ]
  },
  {
   "cell_type": "code",
   "execution_count": 54,
   "metadata": {},
   "outputs": [],
   "source": [
    "assert(merge_list([3,4,5],[1,2,7,8]) == [1,2,3,4,5,7,8])"
   ]
  },
  {
   "cell_type": "markdown",
   "metadata": {},
   "source": [
    "## 4. 给定两个正数x和y，判断x是不是y的幂\n",
    "【例1】: x= 16, y = 2\n",
    "\n",
    "True， 因为16= 2 x 2 x 2 x 2\n",
    "\n",
    "【例2】: x = 36, y = 4\n",
    "\n",
    "False"
   ]
  },
  {
   "cell_type": "code",
   "execution_count": 58,
   "metadata": {},
   "outputs": [],
   "source": [
    "def is_power(x, y):\n",
    "    \"\"\"WRITE YOUR CODE HERE\"\"\""
   ]
  },
  {
   "cell_type": "code",
   "execution_count": 64,
   "metadata": {},
   "outputs": [],
   "source": [
    "assert(is_power(16, 2) == True)\n",
    "assert(is_power(36, 4) == False)"
   ]
  },
  {
   "cell_type": "markdown",
   "metadata": {},
   "source": [
    "## 5.给定一个数，把它的各位相加，相加的结果如果不是单位数继续把各位相加，知道结果为一个单位数\n",
    "【例】7348\n",
    "\n",
    "1) 7+3+4+8 = 22\n",
    "\n",
    "2) 2+2=4\n",
    "\n",
    "result = 4"
   ]
  },
  {
   "cell_type": "code",
   "execution_count": 83,
   "metadata": {},
   "outputs": [],
   "source": [
    "def add_digits(num):\n",
    "    \"\"\"WRITE YOUR CODE HERE\"\"\""
   ]
  },
  {
   "cell_type": "code",
   "execution_count": null,
   "metadata": {},
   "outputs": [],
   "source": []
  }
 ],
 "metadata": {
  "kernelspec": {
   "display_name": "Python 3",
   "language": "python",
   "name": "python3"
  },
  "language_info": {
   "codemirror_mode": {
    "name": "ipython",
    "version": 3
   },
   "file_extension": ".py",
   "mimetype": "text/x-python",
   "name": "python",
   "nbconvert_exporter": "python",
   "pygments_lexer": "ipython3",
   "version": "3.7.4"
  }
 },
 "nbformat": 4,
 "nbformat_minor": 2
}
