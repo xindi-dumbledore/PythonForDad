{
 "cells": [
  {
   "cell_type": "markdown",
   "metadata": {},
   "source": [
    "# Python练习（二）：循环，判断语句练习\n",
    "#### 知识点：\n",
    "\n",
    "* 循环：\n",
    "\n",
    "    1.`while`\n",
    "    \n",
    "    2.`for`\n",
    "    \n",
    "    3.`range`\n",
    "* 判断：`if`,`else`,`elif`\n",
    "* `break`\n",
    "* `continue`\n",
    "\n",
    "#### 参考资料：\n",
    "1. 书的第50-57页\n",
    "2. 文档：https://docs.python.org/zh-cn/3/tutorial/controlflow.html"
   ]
  },
  {
   "cell_type": "markdown",
   "metadata": {},
   "source": [
    "## 1. 使用`while`循环和`for`循环打出前n个自然数，用空格隔开\n",
    "例：\n",
    "n = 10\n",
    "输出：0 1 2 3 4 5 6 7 8 9 10\n",
    "\n",
    "提示：直接在函数中`print`，函数不需要有`return`"
   ]
  },
  {
   "cell_type": "code",
   "execution_count": null,
   "metadata": {},
   "outputs": [],
   "source": [
    "def print_numbers_while(n):\n",
    "    \"用while做\"\n",
    "    \"\"\"WRITE YOUR CODE HERE\"\"\""
   ]
  },
  {
   "cell_type": "code",
   "execution_count": null,
   "metadata": {},
   "outputs": [],
   "source": [
    "def print_numbers_for(n):\n",
    "    \"用for做\"\n",
    "    \"\"\"WRITE YOUR CODE HERE\"\"\""
   ]
  },
  {
   "cell_type": "markdown",
   "metadata": {},
   "source": [
    "测试代码"
   ]
  },
  {
   "cell_type": "code",
   "execution_count": null,
   "metadata": {},
   "outputs": [],
   "source": [
    "print_numbers_while(10)"
   ]
  },
  {
   "cell_type": "code",
   "execution_count": null,
   "metadata": {},
   "outputs": [],
   "source": [
    "print_numbers_for(10)"
   ]
  },
  {
   "cell_type": "markdown",
   "metadata": {},
   "source": [
    "## 2. 给定n，打出下面的金字塔\n",
    "例：n = 5\n",
    "\n",
    "输出\n",
    "\n",
    "\n",
    "1 \n",
    "\n",
    "1 2 \n",
    "\n",
    "1 2 3 \n",
    "\n",
    "1 2 3 4 \n",
    "\n",
    "1 2 3 4 5\n"
   ]
  },
  {
   "cell_type": "code",
   "execution_count": null,
   "metadata": {},
   "outputs": [],
   "source": [
    "def print_pyramid(n):\n",
    "    \"\"\"WRITE YOUR CODE HERE\"\"\""
   ]
  },
  {
   "cell_type": "markdown",
   "metadata": {},
   "source": [
    "测试代码"
   ]
  },
  {
   "cell_type": "code",
   "execution_count": null,
   "metadata": {},
   "outputs": [],
   "source": [
    "print_pyramid(5)"
   ]
  },
  {
   "cell_type": "markdown",
   "metadata": {},
   "source": [
    "## 3. 给定一个字符串，只打印出奇数位置的字符，用空格分开\n",
    "例:\n",
    "\n",
    "输入: \"Python\"\n",
    "\n",
    "输出: P t o\n"
   ]
  },
  {
   "cell_type": "code",
   "execution_count": null,
   "metadata": {},
   "outputs": [],
   "source": [
    "def print_even_char(string):\n",
    "    \"\"\"WRITE YOUR CODE HERE\"\"\""
   ]
  },
  {
   "cell_type": "markdown",
   "metadata": {},
   "source": [
    "测试代码"
   ]
  },
  {
   "cell_type": "code",
   "execution_count": null,
   "metadata": {},
   "outputs": [],
   "source": [
    "print_even_char(\"Python\")"
   ]
  },
  {
   "cell_type": "markdown",
   "metadata": {},
   "source": [
    "## 4. 下面的代码目前会打印出0到100的数。使用`break`语句，使其只打印出0到10"
   ]
  },
  {
   "cell_type": "code",
   "execution_count": null,
   "metadata": {},
   "outputs": [],
   "source": [
    "for i in range(100):\n",
    "    print(i)\n",
    "    \"\"\"WRITE YOUR CODE HERE\"\"\""
   ]
  },
  {
   "cell_type": "markdown",
   "metadata": {},
   "source": [
    "## 5. 给定两个数，输出他们的乘积。如果他们的乘积大于1000，输出他们的和\n",
    "例1：\n",
    "\n",
    "输入: 20 30\n",
    "\n",
    "输出: 600\n",
    "\n",
    "例2：\n",
    "\n",
    "输入：40 30\n",
    "\n",
    "输出 70"
   ]
  },
  {
   "cell_type": "code",
   "execution_count": null,
   "metadata": {},
   "outputs": [],
   "source": [
    "def product_or_sum(num1, num2):\n",
    "    \"\"\"WRITE YOUR CODE HERE\"\"\"\n",
    "    return result"
   ]
  },
  {
   "cell_type": "raw",
   "metadata": {},
   "source": [
    "测试代码"
   ]
  },
  {
   "cell_type": "code",
   "execution_count": null,
   "metadata": {},
   "outputs": [],
   "source": [
    "assert product_or_sum(20, 30) == 600\n",
    "assert product_or_sum(40, 30) == 70"
   ]
  },
  {
   "cell_type": "markdown",
   "metadata": {},
   "source": [
    "## 6. 给定一个字符串，和一个子字符串，统计出子字符串出现的次数\n",
    "\n",
    "例：\n",
    "\n",
    "字符串：\"Emma is good developer. Emma is a writer\"\n",
    "\n",
    "子字符串：\"Emma\"\n",
    "\n",
    "输出：2"
   ]
  },
  {
   "cell_type": "code",
   "execution_count": null,
   "metadata": {},
   "outputs": [],
   "source": [
    "def count_substring(string, substring):\n",
    "    \"\"\"WRITE YOUR CODE HERE\"\"\"\n",
    "    return result"
   ]
  },
  {
   "cell_type": "markdown",
   "metadata": {},
   "source": [
    "测试代码"
   ]
  },
  {
   "cell_type": "code",
   "execution_count": null,
   "metadata": {},
   "outputs": [],
   "source": [
    "string = \"Emma is good developer. Emma is a writer\"\n",
    "substring = \"Emma\"\n",
    "assert(count_substring(string, substring)) == 2"
   ]
  },
  {
   "cell_type": "markdown",
   "metadata": {},
   "source": [
    "## 7. 给定一个数，打出它的各位数字，顺序为个位，十位，百位等，用空格隔开\n",
    "例：\n",
    "\n",
    "输入: 7536\n",
    "\n",
    "输出: 6 3 5 7"
   ]
  },
  {
   "cell_type": "code",
   "execution_count": null,
   "metadata": {},
   "outputs": [],
   "source": [
    "def print_each_digit(num):\n",
    "    \"\"\"WRITE YOUR CODE HERE\"\"\""
   ]
  },
  {
   "cell_type": "markdown",
   "metadata": {},
   "source": [
    "测试代码"
   ]
  },
  {
   "cell_type": "code",
   "execution_count": null,
   "metadata": {},
   "outputs": [],
   "source": [
    "print_each_digit(7536)"
   ]
  },
  {
   "cell_type": "markdown",
   "metadata": {},
   "source": [
    "## 8. 给定一个列表，取出列表中可以被5整除的数存在列表里\n",
    "例：\n",
    "\n",
    "输入：a = [12, 15, 32, 42, 55, 75, 122, 132]\n",
    "\n",
    "输出：result = [15, 55, 75]\n"
   ]
  },
  {
   "cell_type": "code",
   "execution_count": null,
   "metadata": {},
   "outputs": [],
   "source": [
    "def get_dividable(a):\n",
    "    \"\"\"WRITE YOUR CODE HERE\"\"\"\n",
    "    return result"
   ]
  },
  {
   "cell_type": "markdown",
   "metadata": {},
   "source": [
    "测试代码"
   ]
  },
  {
   "cell_type": "code",
   "execution_count": null,
   "metadata": {},
   "outputs": [],
   "source": [
    "a = [12, 15, 32, 42, 55, 75, 122, 132]\n",
    "assert get_dividable(a) == [15, 55, 75]"
   ]
  },
  {
   "cell_type": "markdown",
   "metadata": {},
   "source": [
    "## 9. 给定一个列表，根据下列规则创建一个元素是字符串的新列表：\n",
    "1. 如果这个数字是5的倍数且为奇数，对应字符串为\"five odd\"\n",
    "2. 如果这个数字是5的倍数且为偶数，对应字符串为\"five even\"\n",
    "3. 如果这个数字不是5的倍数且为奇数，对应字符串\"odd\"\n",
    "4. 如果这个数字不是5的倍数且为偶数，对应字符串\"even\"\n",
    "\n",
    "例：\n",
    "\n",
    "输入：numbers = [1, 3, 4, 6, 81, 80, 100, 95]\n",
    "\n",
    "输出：result = ['odd', 'odd', 'even', 'even', 'odd', 'five even', 'five even', 'five odd']"
   ]
  },
  {
   "cell_type": "code",
   "execution_count": null,
   "metadata": {},
   "outputs": [],
   "source": [
    "def create_list(numbers):\n",
    "    \"\"\"WRITE YOUR CODE HERE\"\"\"\n",
    "    return result"
   ]
  },
  {
   "cell_type": "markdown",
   "metadata": {},
   "source": [
    "测试代码"
   ]
  },
  {
   "cell_type": "code",
   "execution_count": null,
   "metadata": {},
   "outputs": [],
   "source": [
    "assert create_list([1, 3, 4, 6, 81, 80, 100, 95]) == ['odd', 'odd', 'even', 'even', \n",
    "                   'odd', 'five even', 'five even', 'five odd']"
   ]
  },
  {
   "cell_type": "markdown",
   "metadata": {},
   "source": [
    "## 10. 更改字典：给定一个字典，把字典里超过1000的值减去500\n",
    "例：\n",
    "\n",
    "输入 dic={\"z1\":900, \"t1\": 1100, \"p1\": 2300, \"r1\": 1050, \"k1\": 3200, \"g1\": 400}\n",
    "\n",
    "输出：dic={\"z1\":900, \"t1\": 600, \"p1\": 1800, \"r1\": 550, \"k1\": 2700, \"g1\": 400}"
   ]
  },
  {
   "cell_type": "code",
   "execution_count": null,
   "metadata": {},
   "outputs": [],
   "source": [
    "def update_dic(dic):\n",
    "    \"\"\"WRITE YOUR CODE HERE\"\"\"\n",
    "    return dic"
   ]
  },
  {
   "cell_type": "markdown",
   "metadata": {},
   "source": [
    "测试代码"
   ]
  },
  {
   "cell_type": "code",
   "execution_count": null,
   "metadata": {},
   "outputs": [],
   "source": [
    "dic = {\"z1\":900, \"t1\": 1100, \"p1\": 2300, \"r1\": 1050, \"k1\": 3200, \"g1\": 400}\n",
    "assert(update_dic(dic)[\"p1\"]) == 1800"
   ]
  },
  {
   "cell_type": "markdown",
   "metadata": {},
   "source": [
    "## 11. 给定收入，按照下面的规则算出个人所得税\n",
    "1.前10,000元，税率为0%\n",
    "2.下一个10,000元，税率为10%\n",
    "3.剩余部分，税率为20%\n",
    "\n",
    "例：\n",
    "收入为45000，个人所得税为\n",
    "\n",
    "\\begin{align}\n",
    "     10000 \\times 0\\% + 10000 \\times 10\\% + 25000 \\times 20\\% = 6000\n",
    "\\end{align}\n"
   ]
  },
  {
   "cell_type": "code",
   "execution_count": null,
   "metadata": {},
   "outputs": [],
   "source": [
    "def cal_tax(income):\n",
    "    \"\"\"WRITE YOUR CODE HERE\"\"\"\n",
    "    return tax"
   ]
  },
  {
   "cell_type": "markdown",
   "metadata": {},
   "source": [
    "测试代码"
   ]
  },
  {
   "cell_type": "code",
   "execution_count": null,
   "metadata": {},
   "outputs": [],
   "source": [
    "assert cal_tax(9000) == 0\n",
    "assert cal_tax(45000) == 6000"
   ]
  },
  {
   "cell_type": "markdown",
   "metadata": {},
   "source": [
    "## 12.使用`continue`语句，使下面的代码跳过对\"sun\"的输出"
   ]
  },
  {
   "cell_type": "code",
   "execution_count": null,
   "metadata": {},
   "outputs": [],
   "source": [
    "weather=[\"snow\", \"rain\", \"sun\", \"clouds\"]\n",
    "for i in weather:\n",
    "    \"\"\"WRITE YOUR CODE HERE\"\"\"\n",
    "    print(i)"
   ]
  },
  {
   "cell_type": "markdown",
   "metadata": {},
   "source": [
    "## 13. `treepersqkm`是一个字典，记录了每个国家每平方千米有多少棵树。完成下面的函数，使其可以输出每平方千米树木多于`num`的国家。请把结果放在列表里。"
   ]
  },
  {
   "cell_type": "code",
   "execution_count": null,
   "metadata": {},
   "outputs": [],
   "source": [
    "def moretrees(dic, num):\n",
    "    \"\"\"WRITE YOUR CODE HERE\"\"\"\n",
    "    return countries"
   ]
  },
  {
   "cell_type": "markdown",
   "metadata": {},
   "source": [
    "测试代码"
   ]
  },
  {
   "cell_type": "code",
   "execution_count": null,
   "metadata": {},
   "outputs": [],
   "source": [
    "treepersqkm = {\"Finland\": 90652, \"Brazil\": 39542, \"Syria\": 534, \"Saudi Arabia\": 1,\n",
    "               \"Canada\": 36388, \"Greece\": 24323, \"United States\": 23513, \"Turkey\": 11126, \n",
    "               \"Bulgaria\": 24987, \"France\": 24436, \"India\": 11109, \"Denmark\": 6129, \n",
    "               \"Japan\": 49894, \"Russia\": 41396}\n",
    "assert moretrees(treepersqkm, 30000) == [\"Finland\",\"Japan\",\"Russia\",\"Brazil\",\"Canada\"]"
   ]
  },
  {
   "cell_type": "markdown",
   "metadata": {},
   "source": [
    "## 14. 给一列数，算出每对（第一个和第二个，第三个和第四个等等）数字的和。假设给的数列有偶数个数。\n",
    "\n",
    "例：\n",
    "\n",
    "输入：numbers = [12,50,30,2,7,80]\n",
    "\n",
    "输出：result = [62, 32, 87]"
   ]
  },
  {
   "cell_type": "code",
   "execution_count": null,
   "metadata": {},
   "outputs": [],
   "source": [
    "def pair_sum(numbers):\n",
    "    \"\"\"WRITE YOUR CODE HERE\"\"\"\n",
    "    return result"
   ]
  },
  {
   "cell_type": "markdown",
   "metadata": {},
   "source": [
    "测试代码"
   ]
  },
  {
   "cell_type": "code",
   "execution_count": null,
   "metadata": {},
   "outputs": [],
   "source": [
    "assert(pair_sum([12,50,30,2,7,80])) == [62, 32, 87]"
   ]
  },
  {
   "cell_type": "markdown",
   "metadata": {},
   "source": [
    "## 15. 附加题：斐波那契数列\n",
    "[斐波那契数列](https://baike.baidu.com/item/斐波那契数列)是一个神奇的数列。写一个函数`fibonacci`，给定数字n，输出最大数字不超过n的斐波那契数列。结果存在列表里。\n",
    "例：\n",
    "\n",
    "输入：n = 10\n",
    "\n",
    "输出：result = [1, 1, 2, 3, 5, 8]\n",
    "\n",
    "注意：请不要使用斐波那契数列的通项公式。"
   ]
  },
  {
   "cell_type": "code",
   "execution_count": null,
   "metadata": {},
   "outputs": [],
   "source": [
    "\"\"\"WRITE YOUR CODE HERE\"\"\""
   ]
  }
 ],
 "metadata": {
  "kernelspec": {
   "display_name": "Python 3",
   "language": "python",
   "name": "python3"
  },
  "language_info": {
   "codemirror_mode": {
    "name": "ipython",
    "version": 3
   },
   "file_extension": ".py",
   "mimetype": "text/x-python",
   "name": "python",
   "nbconvert_exporter": "python",
   "pygments_lexer": "ipython3",
   "version": "3.7.4"
  }
 },
 "nbformat": 4,
 "nbformat_minor": 2
}
